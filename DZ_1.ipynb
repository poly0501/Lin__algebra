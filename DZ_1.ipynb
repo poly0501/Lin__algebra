{
 "cells": [
  {
   "cell_type": "code",
   "execution_count": 1,
   "metadata": {},
   "outputs": [],
   "source": [
    "import numpy as np\n",
    "import pandas as pd"
   ]
  },
  {
   "cell_type": "markdown",
   "metadata": {},
   "source": [
    "__Урок_1 Часть 1__"
   ]
  },
  {
   "cell_type": "markdown",
   "metadata": {},
   "source": [
    "__№1__ Исследовать на линейную зависимость:"
   ]
  },
  {
   "cell_type": "markdown",
   "metadata": {},
   "source": [
    "$f_1(x) = e^x$\n",
    "\n",
    "$f_2(x) = 1$\n",
    "\n",
    "$f_3(x) = x + 1$\n",
    "\n",
    "$f_4(x) = x - e^x$"
   ]
  },
  {
   "cell_type": "markdown",
   "metadata": {},
   "source": [
    "Решение:$(-1)*f_4+f_3-f_2 = f_1$"
   ]
  },
  {
   "cell_type": "markdown",
   "metadata": {},
   "source": [
    "$-x+e^x+x+1-1 = e^x$"
   ]
  },
  {
   "cell_type": "markdown",
   "metadata": {},
   "source": [
    "Ответ:Линейно зависимые"
   ]
  },
  {
   "cell_type": "markdown",
   "metadata": {},
   "source": [
    "__№2__ Исследовать на линейную зависимость:"
   ]
  },
  {
   "cell_type": "markdown",
   "metadata": {},
   "source": [
    "$f_1(x) = 2$\n",
    "\n",
    "$f_2(x) = x$\n",
    "\n",
    "$f_3(x) = x^2$\n",
    "\n",
    "$f_4(x) = (x+1)^2=x^2+2x+1$"
   ]
  },
  {
   "cell_type": "markdown",
   "metadata": {},
   "source": [
    "Решение:$f_3+2f_2+1/2f_1 = f_4$"
   ]
  },
  {
   "cell_type": "markdown",
   "metadata": {},
   "source": [
    "Ответ:Линейно зависимые"
   ]
  },
  {
   "cell_type": "markdown",
   "metadata": {},
   "source": [
    "__№3__ Найти координаты вектора $x=(2,3,5)$ ∈ $R^3$"
   ]
  },
  {
   "cell_type": "markdown",
   "metadata": {},
   "source": [
    "в базисе $b_1=(0,0,10)$, $b_2=(2,0,0)$, $b_3=(0,1,0)$"
   ]
  },
  {
   "cell_type": "markdown",
   "metadata": {},
   "source": [
    "Решение: $x = 1/2*b_1+b_2+3b_3$"
   ]
  },
  {
   "cell_type": "markdown",
   "metadata": {},
   "source": [
    "__№4__ Найти координаты вектора "
   ]
  },
  {
   "cell_type": "markdown",
   "metadata": {},
   "source": [
    "$y=3x^2-2x+2$ ∈ $R^3[x]$"
   ]
  },
  {
   "cell_type": "markdown",
   "metadata": {},
   "source": [
    "__a)__ в базисе $b = (1,x,x^2) = (1,1,1)$"
   ]
  },
  {
   "cell_type": "markdown",
   "metadata": {},
   "source": [
    "$b_1 = (1,0,0)$, $b_2 = (0,1,0)$, $b_3 = (0,0,1)$\n",
    "\n",
    "$y = (2,-2,3)$"
   ]
  },
  {
   "cell_type": "markdown",
   "metadata": {},
   "source": [
    "Решение: $y = 2b_1-2b_2+3b_3$"
   ]
  },
  {
   "cell_type": "markdown",
   "metadata": {},
   "source": [
    "__б)__ в базисе $c = (x^2,x-1,1)$"
   ]
  },
  {
   "cell_type": "markdown",
   "metadata": {},
   "source": [
    "$c_1 = (1,0,0)$, $c_2 = (0,x-1,0)$, $c_3 = (0,0,x^2)$"
   ]
  },
  {
   "cell_type": "markdown",
   "metadata": {},
   "source": [
    "$y=(2,-2x,3x^2)$"
   ]
  },
  {
   "cell_type": "markdown",
   "metadata": {},
   "source": [
    "Решение: $y = 2c_1 - 2(c_2+1)+3c_3$"
   ]
  },
  {
   "cell_type": "markdown",
   "metadata": {},
   "source": [
    "__№5__ Установить, является ли линейным подпространством:"
   ]
  },
  {
   "cell_type": "markdown",
   "metadata": {},
   "source": [
    "__а)__ совокупность всех векторов трехмерного пространства, у которых по крайней мере одна из первых двух координат равна нулю;\n",
    "\n",
    "(0,𝑎,𝑏)+(0,𝑐,𝑑)=(0,𝑎+𝑐,𝑏+𝑑), \n",
    "\n",
    "𝛼*(0,𝑎,𝑏)=(0,𝛼𝑎,𝛼𝑏). \n",
    "\n",
    "Если 0 будут стоять на одинаковой позиции, то да. Проверим случай, если позиция 0 будет разная\n",
    "\n",
    "(0,𝑎,𝑏)+(𝑐,0,𝑑)=(𝑐,𝑎,𝑏+𝑑) не выполняется\n",
    "\n",
    "Ответ: нет"
   ]
  },
  {
   "cell_type": "markdown",
   "metadata": {},
   "source": [
    "__б)__ все векторы, являющиеся линейными комбинациями данных векторов {𝑢1,𝑢2,...,𝑢𝑛} ."
   ]
  },
  {
   "cell_type": "markdown",
   "metadata": {},
   "source": [
    "Пример\n",
    "\n",
    "$a = 3u_1+4u_2$\n",
    "\n",
    "$b = u_3+2u_4$\n",
    "\n",
    "$(3u_1+4u_2)+(u_3+2u_4)=3u_1+4u_2+u_3+2u_4$,\n",
    "\n",
    "$3*(3u_1+4u_2)=9u_1+12u_2$"
   ]
  },
  {
   "cell_type": "markdown",
   "metadata": {},
   "source": [
    "Ответ:Полученные векторы принадлежат множеству всех векторов, являющиеся линейными комбинациями данных векторов {𝑢1,𝑢2,...,𝑢𝑛}, то есть данное множество является подпространством линейного пространства ℝ3. \n"
   ]
  },
  {
   "cell_type": "markdown",
   "metadata": {},
   "source": [
    "----------------------------------------------------------------------------------------------------------------"
   ]
  },
  {
   "cell_type": "markdown",
   "metadata": {},
   "source": [
    "__Урок_1 Часть 2__"
   ]
  },
  {
   "cell_type": "markdown",
   "metadata": {},
   "source": [
    "__№1__ Найти скалярное произведение векторов 𝑥,𝑦 ∈ ℝ:"
   ]
  },
  {
   "cell_type": "markdown",
   "metadata": {},
   "source": [
    "__a)__ $x = (0,-3,6)$   $y = (-4,7,9)$"
   ]
  },
  {
   "cell_type": "markdown",
   "metadata": {},
   "source": [
    "(x,y) = 0 - 21 + 54 = 33"
   ]
  },
  {
   "cell_type": "markdown",
   "metadata": {},
   "source": [
    "__б)__ $x = (7,-4,0,1)$  $y = (-3,1,11,2)$"
   ]
  },
  {
   "cell_type": "markdown",
   "metadata": {},
   "source": [
    "(x,y)=-21-4+2 = -23"
   ]
  },
  {
   "cell_type": "markdown",
   "metadata": {},
   "source": [
    "__№2__ Найти нормы векторов (4,2,4) и (12,3,4) и угол между ними."
   ]
  },
  {
   "cell_type": "markdown",
   "metadata": {},
   "source": [
    "x = (4,2,4) => $||x|| = \\sqrt{4^2+2^2+4^2}=6$"
   ]
  },
  {
   "cell_type": "markdown",
   "metadata": {},
   "source": [
    "y = (12,3,4) => $||y|| = \\sqrt{144+9+16}=13$"
   ]
  },
  {
   "cell_type": "markdown",
   "metadata": {},
   "source": [
    "$cos(a)=\\dfrac{48+6+16}{6*13}=\\dfrac{70}{6*13}=\\dfrac{35}{39} 0,9$"
   ]
  },
  {
   "cell_type": "markdown",
   "metadata": {},
   "source": [
    "__№3__Будет ли линейное пространство евклидовым, если за скалярное произведение принять:"
   ]
  },
  {
   "cell_type": "markdown",
   "metadata": {},
   "source": [
    "__a)__ произведение длин векторов;"
   ]
  },
  {
   "cell_type": "markdown",
   "metadata": {},
   "source": [
    "__1)__ (x,y) = (y,x)"
   ]
  },
  {
   "cell_type": "markdown",
   "metadata": {},
   "source": [
    "$||x||*||y||=||y||*||x||$ - выполняется"
   ]
  },
  {
   "cell_type": "markdown",
   "metadata": {},
   "source": [
    "__2)__ $(ax,y)=a(x,y)$"
   ]
  },
  {
   "cell_type": "markdown",
   "metadata": {},
   "source": [
    "Пусть: a = 2, x = (1,2), y=(1,2)"
   ]
  },
  {
   "cell_type": "markdown",
   "metadata": {},
   "source": [
    "$||ax||*||y||=\\sqrt{4+16}*\\sqrt{4}=\\sqrt{20}*4=\\sqrt{5}*8$"
   ]
  },
  {
   "cell_type": "markdown",
   "metadata": {},
   "source": [
    "$a(||x||*||y||)=\\sqrt{4}*\\sqrt{4}*2 = 8$"
   ]
  },
  {
   "cell_type": "markdown",
   "metadata": {},
   "source": [
    "$||ax||*||y||$ не равно $a(||x||*||y||)$"
   ]
  },
  {
   "cell_type": "markdown",
   "metadata": {},
   "source": [
    "Ответ: нет"
   ]
  },
  {
   "cell_type": "markdown",
   "metadata": {},
   "source": [
    "__б)__ утроенное обычное скалярное произведение векторов?"
   ]
  },
  {
   "cell_type": "markdown",
   "metadata": {},
   "source": [
    "Ответ:да"
   ]
  },
  {
   "cell_type": "markdown",
   "metadata": {},
   "source": [
    "__№4__ Какие из нижеперечисленных векторов образуют ортонормированный базис в линейном пространстве ℝ3:\n",
    "\n",
    "а) (1,0,0),(0,0,1); \n",
    "\n",
    "б) (1/2‾√,−1/2‾√,0),(1/2‾√,1/2‾√,0),(0,0,1);\n",
    "\n",
    "в) (1/2,−1/2,0),(0,1/2,1/2),(0,0,1);\n",
    "\n",
    "г) (1,0,0),(0,1,0),(0,0,1)? "
   ]
  },
  {
   "cell_type": "markdown",
   "metadata": {},
   "source": [
    "__a)__ x=(1,0,0), y=(0,0,1)"
   ]
  },
  {
   "cell_type": "markdown",
   "metadata": {},
   "source": [
    "$cos(a)=\\dfrac{(x,y)}{||x||*||y||}=\\dfrac{0}{2}$"
   ]
  },
  {
   "cell_type": "markdown",
   "metadata": {},
   "source": [
    "Ответ: орторнормированные"
   ]
  },
  {
   "cell_type": "markdown",
   "metadata": {},
   "source": [
    "__б)__ $x=(\\dfrac{1}{\\sqrt{2}},-\\dfrac{1}{\\sqrt{2}},0), y = (\\dfrac{1}{\\sqrt{2}},\\dfrac{1}{\\sqrt{2}},0), z=(0,0,1)$ "
   ]
  },
  {
   "cell_type": "markdown",
   "metadata": {},
   "source": [
    "x и z - ортогональные, y и z - ортогональные\n",
    "\n",
    "Проверим, ортогональны ли x и y"
   ]
  },
  {
   "cell_type": "markdown",
   "metadata": {},
   "source": [
    "$cos(a)=\\dfrac{(x,y)}{||x||*||y||}=\\dfrac{\\dfrac{1}{2}+\\dfrac{1}{2}}{\\dfrac{1}{2}*\\dfrac{1}{2}}$"
   ]
  },
  {
   "cell_type": "markdown",
   "metadata": {},
   "source": [
    "Ответ: не орторнормированные"
   ]
  },
  {
   "cell_type": "markdown",
   "metadata": {},
   "source": [
    "__в)__ $x=(\\dfrac{1}{2},-\\dfrac{1}{2},0), y = (0,\\dfrac{1}{2},\\dfrac{1}{2}), z=(0,0,1)$ "
   ]
  },
  {
   "cell_type": "markdown",
   "metadata": {},
   "source": [
    "x и z - ортогональны\n",
    "\n",
    "x и y - не ортогональны\n",
    "\n",
    "y и z - не ортогональны"
   ]
  },
  {
   "cell_type": "markdown",
   "metadata": {},
   "source": [
    "Ответ: не орторнормированные"
   ]
  },
  {
   "cell_type": "markdown",
   "metadata": {},
   "source": [
    "__г)__ x = (1,0,0), y = (0,1,0), z = (0,0,1)"
   ]
  },
  {
   "cell_type": "markdown",
   "metadata": {},
   "source": [
    "Ответ: орторнормированные"
   ]
  },
  {
   "cell_type": "code",
   "execution_count": null,
   "metadata": {},
   "outputs": [],
   "source": []
  }
 ],
 "metadata": {
  "kernelspec": {
   "display_name": "Python 3",
   "language": "python",
   "name": "python3"
  },
  "language_info": {
   "codemirror_mode": {
    "name": "ipython",
    "version": 3
   },
   "file_extension": ".py",
   "mimetype": "text/x-python",
   "name": "python",
   "nbconvert_exporter": "python",
   "pygments_lexer": "ipython3",
   "version": "3.7.4"
  }
 },
 "nbformat": 4,
 "nbformat_minor": 2
}
